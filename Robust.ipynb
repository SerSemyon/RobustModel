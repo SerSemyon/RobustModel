{
  "cells": [
    {
      "cell_type": "markdown",
      "metadata": {
        "id": "ZCJxpviHdP60"
      },
      "source": [
        "В качестве задачи рассмотрим классификацию изображений MNIST для цифр 0 и 1."
      ]
    },
    {
      "cell_type": "markdown",
      "metadata": {
        "id": "6O7TndbVe_gS"
      },
      "source": [
        "### Подготовка"
      ]
    },
    {
      "cell_type": "code",
      "execution_count": null,
      "metadata": {
        "id": "uTKu4PLGdn_p"
      },
      "outputs": [],
      "source": [
        "# Загрузим библиотеки, которые нам пригодятся\n",
        "\n",
        "from sklearn.datasets import fetch_openml\n",
        "from sklearn.model_selection import train_test_split\n",
        "\n",
        "import numpy as np\n",
        "import matplotlib.pyplot as plt\n",
        "\n",
        "import warnings\n",
        "warnings.filterwarnings(\"ignore\")"
      ]
    },
    {
      "cell_type": "code",
      "execution_count": null,
      "metadata": {
        "colab": {
          "base_uri": "https://localhost:8080/"
        },
        "id": "pNFUutNhfD9-",
        "outputId": "d3f0abbe-6f7e-432d-9547-eaac35a9d0e3"
      },
      "outputs": [
        {
          "output_type": "stream",
          "name": "stdout",
          "text": [
            "Доля единиц в датасете:  0.5329499323410013\n"
          ]
        }
      ],
      "source": [
        "# Загрузим датасет\n",
        "mnist = fetch_openml('mnist_784', as_frame=False, cache=True)\n",
        "\n",
        "# подготовим данные в нужном формате\n",
        "X = mnist.data.astype('float32')\n",
        "y = mnist.target.astype('int64')\n",
        "\n",
        "# Оставим в датасете только классы 0 и 1\n",
        "y_bin = y[(y == 0) | (y == 1)]\n",
        "X_bin = X[(y == 0) | (y == 1)]\n",
        "\n",
        "\n",
        "# Для удобства, обозначим лейблы классов за -1 (обозначает цифру 0)\n",
        "# и 1 (обозначает цифру 1)\n",
        "y_bin[y_bin == 0] = -1\n",
        "\n",
        "# Посмотрим на долю единиц в датасете\n",
        "positive_class_size = len(y_bin[y_bin == 1])\n",
        "positive_class_rate = positive_class_size / len(y_bin)\n",
        "\n",
        "print(\"Доля единиц в датасете: \", positive_class_rate)"
      ]
    },
    {
      "cell_type": "code",
      "execution_count": null,
      "metadata": {
        "colab": {
          "base_uri": "https://localhost:8080/",
          "height": 152
        },
        "id": "a1x4I2UOgGgS",
        "outputId": "56198b63-03c8-4478-b027-e76a08816a05"
      },
      "outputs": [
        {
          "output_type": "display_data",
          "data": {
            "text/plain": [
              "<Figure size 700x300 with 5 Axes>"
            ],
            "image/png": "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\n"
          },
          "metadata": {}
        }
      ],
      "source": [
        "# Посмотрим на первые 5 примеров\n",
        "\n",
        "n = 5\n",
        "\n",
        "fig, axs = plt.subplots(1, n, figsize=(7, 3))\n",
        "\n",
        "for ax, image, label in zip(axs, X_bin[:n], y_bin[:n]):\n",
        "\n",
        "  # Переводим картинку из вектора длины 784 в матрицу 28 x 28\n",
        "  image_reshaped = image.reshape(28, 28)\n",
        "\n",
        "  ax.imshow(image_reshaped)\n",
        "  ax.set_title(label)\n",
        "  ax.axis(\"off\")"
      ]
    },
    {
      "cell_type": "markdown",
      "metadata": {
        "id": "r_S4mqdWgVgl"
      },
      "source": [
        "### Шаг 1. Тренировка незащищенной модели [10 баллов]\n",
        "\n",
        "\n",
        "Начнем с того, что натренируем стандартную модель логистической регрессии и оценим ее устойчивость к атакам. Из курса ML вспомним, что логистическая регрессия это линейная модель:\n",
        "\n",
        "$$h_\\theta(x) = w^T x + b$$\n",
        "\n",
        "с функцией ошибки\n",
        "\n",
        "\\begin{equation}\n",
        "\\ell(h_\\theta(x), y) = \\log(1+\\exp(-y\\cdot h_\\theta(x))) \\equiv L(y \\cdot h_\\theta(x))\n",
        "\\end{equation}\n",
        "\n",
        "Здесь для сокращения записи мы ввели функцию $L(x) = \\log(1+\\exp(-x))$.\n",
        "\n",
        "\n",
        "**Что нужно сделать:**\n",
        "\n",
        "1. Разбить данные на train и test\n",
        "\n",
        "2. Нормализовать датасет ($X$) так, чтобы значения каждого пикселя были в диапазоне [0, 1]\n",
        "\n",
        "3. Натренировать модель логистической регрессии на train set\n",
        "\n",
        "4. Оценить точность (accuracy) логистической регрессии на test set\n",
        "\n",
        "Для решения этой части задания можно использовать встроенные методы `sklearn`\n",
        "\n"
      ]
    },
    {
      "cell_type": "code",
      "execution_count": null,
      "metadata": {
        "id": "-HzWXbbB7GaC",
        "colab": {
          "base_uri": "https://localhost:8080/"
        },
        "outputId": "eaa7804b-33ae-4b64-c8b8-f2690a0ab48b"
      },
      "outputs": [
        {
          "output_type": "stream",
          "name": "stdout",
          "text": [
            "0.9993849938499385\n"
          ]
        }
      ],
      "source": [
        "# Для решения могут пригодиться следующие методы\n",
        "\n",
        "from sklearn.linear_model import LogisticRegression\n",
        "from sklearn.model_selection import train_test_split\n",
        "from sklearn.preprocessing import MinMaxScaler\n",
        "from sklearn.metrics import accuracy_score\n",
        "\n",
        "# Your code here\n",
        "\n",
        "X_scaler = MinMaxScaler()\n",
        "X_scaler.fit(X_bin)\n",
        "X_norm = X_scaler.transform(X_bin)\n",
        "\n",
        "X_train, X_test, y_train, y_test = train_test_split(X_norm, y_bin,\n",
        "                                                    train_size=0.67,\n",
        "                                                    random_state=42)\n",
        "# Тренируем на train\n",
        "clf = LogisticRegression(random_state=0).fit(X_train, y_train)\n",
        "# Оценить на test\n",
        "score_classic = accuracy_score(y_test, clf.predict(X_test))\n",
        "print(score_classic)"
      ]
    },
    {
      "cell_type": "markdown",
      "metadata": {
        "id": "EEZXL_mX8e8z"
      },
      "source": [
        "### Шаг 2. Атака незащищенной модели [15 баллов]\n",
        "\n",
        "Будем считать, что мы можем атаковать модель, изменив значение каждого пикселя в изображении не более чем на 0.2 (атака производится после нормализации):\n",
        "\n",
        "$$x' = x + \\delta, \\quad ||\\delta||_{\\infty} \\le 0.2 = ɛ.$$\n",
        "\n",
        "Как мы доказали на лекции, в случае логистической регрессии мы можем найти точное выражение для оптимальной атаки:\n",
        "\\begin{equation}\n",
        "\\delta^\\star = - y \\cdot \\epsilon \\cdot \\mathrm{sign}(w),\n",
        "\\end{equation}\n",
        "где $w$ это вектор весов модели, который мы получили на Шаге 1.\n",
        "\n",
        "Давайте проведем атаку на модель и посмотрим как сильно упадет её точность.\n",
        "\n",
        "**Что нужно сделать**\n",
        "\n",
        "1. Вычислить значения оптимальной атаки $\\delta^\\star$ для каждого класса (-1 и 1)\n",
        "\n",
        "2. Применить атаку к каждому изображению в test set\n",
        "\n",
        "3. Оценить точность (accuracy) логистической регрессии на атакованном test set\n",
        "\n",
        "Обратите внимание, что атака изображения может вывести значения пикселей из диапазона $[0, 1]$. Для простоты в этом задании можно не делать повторной нормализации.\n",
        "\n",
        "Для решения этой части задания можно использовать встроенные методы `sklearn`"
      ]
    },
    {
      "cell_type": "code",
      "execution_count": null,
      "metadata": {
        "id": "pHnbXhqU7I5r",
        "colab": {
          "base_uri": "https://localhost:8080/",
          "height": 435
        },
        "outputId": "8efd4624-ecaa-477b-9678-1cf5b8f7b825"
      },
      "outputs": [
        {
          "output_type": "display_data",
          "data": {
            "text/plain": [
              "<Figure size 1000x500 with 2 Axes>"
            ],
            "image/png": "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\n"
          },
          "metadata": {}
        }
      ],
      "source": [
        "# TODO: Вычислите значения оптимальной атаки на картинки каждого класса и\n",
        "# изобразите их\n",
        "\n",
        "# Вектор весов модели можно получить следующим образом:\n",
        "# weight = model.coef_\n",
        "\n",
        "eps = 0.2\n",
        "\n",
        "def calculate_delta(y, coefs):\n",
        "  return -y*eps*np.sign(coefs)\n",
        "\n",
        "def calculate_deltas(coefs):\n",
        "  return (calculate_delta(-1, coefs), calculate_delta(1, coefs))\n",
        "\n",
        "delta_0, delta_1 = calculate_deltas(clf.coef_[0])\n",
        "\n",
        "n = 2\n",
        "fig, axs = plt.subplots(1, n, figsize=(10, 5))\n",
        "for ax, image, label in zip(axs, [delta_0, delta_1], [-1, 1]):\n",
        "  image_reshaped = image.reshape(28, 28)\n",
        "  ax.imshow(image_reshaped)\n",
        "  ax.set_title(label)"
      ]
    },
    {
      "cell_type": "code",
      "execution_count": null,
      "metadata": {
        "id": "oLfyVguh_y7j",
        "colab": {
          "base_uri": "https://localhost:8080/"
        },
        "outputId": "a13d89aa-05af-4a93-ff6d-2650d91747b3"
      },
      "outputs": [
        {
          "output_type": "stream",
          "name": "stdout",
          "text": [
            "0.14739647396473965\n"
          ]
        }
      ],
      "source": [
        "# TODO: Примените атаку к изображениям в test set и посчитайте точность модели\n",
        "\n",
        "x_attack = []\n",
        "for i in range(len(X_test)):\n",
        "  if y_test[i] == 1:\n",
        "    x_attack.append( X_test[i] + delta_1)\n",
        "  else:\n",
        "    x_attack.append( X_test[i] + delta_0)\n",
        "\n",
        "score_classic_attack = accuracy_score(y_test, clf.predict(x_attack))\n",
        "print(score_classic_attack)"
      ]
    },
    {
      "cell_type": "markdown",
      "metadata": {
        "id": "YnfP-WtRD4ki"
      },
      "source": [
        "### Шаг 3. Тренировка Robust Classifier [25 баллов]\n",
        "\n",
        "Чтобы натренировать модель, устойчивую к атакам, нужно изменить процесс тренировки. Во время тренировки нам нужно минимизировать не стандартную функцию ошибки логистической регрессии, а модифицированную:\n",
        "\n",
        "\\begin{equation}\n",
        "\\DeclareMathOperator*{\\minimize}{minimize}\n",
        "\\minimize_{w,b} \\frac{1}{D}\\sum_{(x,y) \\in D} L \\left(y \\cdot (w^Tx + b) - \\epsilon \\|w\\|_1 \\right ).\n",
        "\\end{equation}\n",
        "\n",
        "Натренируйте модель Robust Logistic Regression на train set и оцените ее устойчивость к атакам.\n",
        "\n",
        "**Что нужно сделать:**\n",
        "\n",
        "1. Реализуйте свой ML-метод: класс **RobustLogisticRegression**, который наследует от sklearn класса [BaseEstimator](https://scikit-learn.org/stable/modules/generated/sklearn.base.BaseEstimator.html). Новый класс должен содержать методы `fit` и `predict`, а внутри метода `fit` должна проходить процедура градиентного спуска с новой функцией ошибки. Шаблон класса дан ниже.\n",
        "\n",
        "2. Натренируйте Robust Logistic Regression и оцените ее точность на чистом test set\n",
        "\n",
        "3. Вычислите атаку $\\delta^\\star = - y \\cdot \\epsilon \\cdot \\mathrm{sign}(w)$ на модель и проатакуйте test set. Для атаки используйте веса робастной модели\n",
        "\n",
        "4. Оцените точность модели на атакованном test set\n",
        "\n",
        "Для решения этой части задания **нельзя** использовать встроенные методы `sklearn`, только шаблон ниже и методы `numpy`"
      ]
    },
    {
      "cell_type": "code",
      "execution_count": null,
      "metadata": {
        "id": "16dueICND40o"
      },
      "outputs": [],
      "source": [
        "from sklearn.base import BaseEstimator\n",
        "\n",
        "class RobustLogisticRegression(BaseEstimator):\n",
        "\n",
        "    def __init__(self):\n",
        "        self.learning_rate = 0.005\n",
        "        self.iterations = 300\n",
        "        self.loss = list()\n",
        "        self.best_loss = 1000\n",
        "\n",
        "    def loss(self, h, y):\n",
        "        return (self.X.dot( self.W ) + self.b - eps * np.linalg.norm(self.W, 1)).mean()\n",
        "\n",
        "    def sigmoida(self, arg):\n",
        "      return 1 / ( 1 + np.exp(-arg) )\n",
        "\n",
        "    def update_weights( self ) :\n",
        "\n",
        "        M = self.Y*(self.X@self.W + self.b) - eps * np.linalg.norm(self.W, 1)\n",
        "\n",
        "        loss = np.log(1 + np.exp(-M))\n",
        "        sig = (self.sigmoida(M) - 1)\n",
        "        dW = np.zeros(self.cols)\n",
        "        for i in range(self.cols):\n",
        "            dW[i] = (sig * (self.Y * self.X[:, i] - eps * np.sign(self.W[i]))).mean()\n",
        "        db = np.dot(sig, self.Y)/self.rows\n",
        "\n",
        "        self.W = self.W - self.learning_rate * dW\n",
        "        self.b = self.b - self.learning_rate * db\n",
        "        loss = loss.mean()\n",
        "        self.loss.append(loss)\n",
        "        if (loss < self.best_loss):\n",
        "          self.best_loss = loss\n",
        "          self.bestW = self.W\n",
        "\n",
        "        return self\n",
        "\n",
        "    def fit(self, X, y):\n",
        "        self.rows, self.cols = X.shape\n",
        "\n",
        "        self.W = np.zeros( self.cols )\n",
        "        self.bestW = self.W\n",
        "        self.b = 0\n",
        "        self.X = X\n",
        "        self.Y = y\n",
        "\n",
        "        for i in range( self.iterations ) :\n",
        "            self.update_weights()\n",
        "            if (i % 50 == 0):\n",
        "              print(i)\n",
        "\n",
        "        self.W = self.bestW\n",
        "        return self\n",
        "\n",
        "    def predict(self, X):\n",
        "        Z = 1 / ( 1 + np.exp( - ( X.dot( self.W ) + self.b ) ) )\n",
        "        Y = np.where( Z > 0.5, 1, -1 )\n",
        "        return Y"
      ]
    },
    {
      "cell_type": "code",
      "source": [
        "# Тренируем на train\n",
        "nclf = RobustLogisticRegression().fit(X_train, y_train)"
      ],
      "metadata": {
        "colab": {
          "base_uri": "https://localhost:8080/"
        },
        "id": "CcNh2P8x95lk",
        "outputId": "a677677d-6bd8-4df7-9eca-1c3f84901f31"
      },
      "execution_count": null,
      "outputs": [
        {
          "output_type": "stream",
          "name": "stdout",
          "text": [
            "0\n",
            "50\n",
            "100\n",
            "150\n",
            "200\n",
            "250\n"
          ]
        }
      ]
    },
    {
      "cell_type": "code",
      "source": [
        "# Оценить на test\n",
        "score_robust = accuracy_score(y_test, nclf.predict(X_test))\n",
        "print(score_robust)\n",
        "print('Сравнение с обычной моделью', score_robust - score_classic)"
      ],
      "metadata": {
        "colab": {
          "base_uri": "https://localhost:8080/"
        },
        "id": "xuELD6BQ-eS2",
        "outputId": "e08f6d5c-7f4f-4129-dfcb-bafb10078aff"
      },
      "execution_count": null,
      "outputs": [
        {
          "output_type": "stream",
          "name": "stdout",
          "text": [
            "0.9956949569495694\n",
            "Сравнение с обычной моделью -0.0036900369003690647\n"
          ]
        }
      ]
    },
    {
      "cell_type": "code",
      "source": [
        "# Оценка защититы от атаки на старых весах\n",
        "score_robust_attack = accuracy_score(y_test, nclf.predict(np.array(x_attack) ))\n",
        "print(score_robust_attack)\n",
        "print('Сравнение с обычной моделью +', score_robust_attack - score_classic_attack)"
      ],
      "metadata": {
        "colab": {
          "base_uri": "https://localhost:8080/"
        },
        "id": "t281PKZMtb9B",
        "outputId": "c187e88a-eb74-49fb-c570-48c33d1f8fa0"
      },
      "execution_count": null,
      "outputs": [
        {
          "output_type": "stream",
          "name": "stdout",
          "text": [
            "0.9294792947929479\n",
            "Сравнение с обычной моделью + 0.7820828208282082\n"
          ]
        }
      ]
    },
    {
      "cell_type": "code",
      "source": [
        "\n",
        "delta_0_robust, delta_1_robust = calculate_deltas(nclf.W)\n",
        "\n",
        "n = 2\n",
        "fig, axs = plt.subplots(1, n, figsize=(10, 5))\n",
        "for ax, image, label in zip(axs, [delta_0_robust, delta_1_robust], [-1, 1]):\n",
        "  image_reshaped = image.reshape(28, 28)\n",
        "  ax.imshow(image_reshaped)\n",
        "  ax.set_title(label)\n",
        "\n",
        "x_attack_robust = []\n",
        "for i in range(len(X_test)):\n",
        "  if y_test[i] == 1:\n",
        "    x_attack_robust.append( X_test[i] + delta_1_robust)\n",
        "  else:\n",
        "    x_attack_robust.append( X_test[i] + delta_0_robust)"
      ],
      "metadata": {
        "colab": {
          "base_uri": "https://localhost:8080/",
          "height": 435
        },
        "id": "B-3XmUU2rDy0",
        "outputId": "9c40f5b3-f178-40a7-9766-41221453d2d3"
      },
      "execution_count": null,
      "outputs": [
        {
          "output_type": "display_data",
          "data": {
            "text/plain": [
              "<Figure size 1000x500 with 2 Axes>"
            ],
            "image/png": "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\n"
          },
          "metadata": {}
        }
      ]
    },
    {
      "cell_type": "code",
      "source": [
        "# Оценка защититы от атаки на новых весах\n",
        "score_robust_attack = accuracy_score(y_test, nclf.predict(np.array(x_attack_robust) ))\n",
        "print(score_robust_attack)\n",
        "print('Сравнение с обычной моделью (на её весах) +', score_robust_attack - score_classic_attack)"
      ],
      "metadata": {
        "colab": {
          "base_uri": "https://localhost:8080/"
        },
        "id": "yArDVC2N_gdK",
        "outputId": "c8f4580a-6e25-42ab-b4fa-a539d3066906"
      },
      "execution_count": null,
      "outputs": [
        {
          "output_type": "stream",
          "name": "stdout",
          "text": [
            "0.9059040590405905\n",
            "Сравнение с обычной моделью (на её весах) + 0.7585075850758508\n"
          ]
        }
      ]
    },
    {
      "cell_type": "code",
      "source": [],
      "metadata": {
        "id": "CuaKt3egRo-B"
      },
      "execution_count": null,
      "outputs": []
    }
  ],
  "metadata": {
    "colab": {
      "provenance": []
    },
    "kernelspec": {
      "display_name": "Python 3",
      "name": "python3"
    },
    "language_info": {
      "name": "python"
    }
  },
  "nbformat": 4,
  "nbformat_minor": 0
}# RobustModel
# RobustModel
